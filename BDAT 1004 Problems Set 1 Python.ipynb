{
 "cells": [
  {
   "cell_type": "code",
   "execution_count": 1,
   "id": "0ddb4e1e",
   "metadata": {},
   "outputs": [
    {
     "name": "stdout",
     "output_type": "stream",
     "text": [
      " Enter a word = eye\n",
      "eyeway\n"
     ]
    }
   ],
   "source": [
    "# Question 6:\n",
    "\n",
    "\n",
    "word = input(\" Enter a word = \") # user is asked to enter an Input\n",
    "\n",
    "def pig(word):                         # fucntion defining\n",
    "    if(word[0] in \"aeiouAEIOU\"):       # if loop operates when the first letter of the user input is present in \"aeiouAEIOU\" means a Vowel\n",
    "        return word+\"way\"              # \"return\" returns the input;however, adds \"way\" in the end of the input \n",
    "    else:                              # else operates when condition for if is not true\n",
    "        return word[::-1]+word[0]+\"ay\" # \"return\" returns the input;however,it reverses the user input and add \"ay\" in the right hand side.\n",
    "\n",
    "result = pig(word) # fucntion \"pig\" to operate on user input \"word\" \n",
    "print(result) # print out results"
   ]
  },
  {
   "cell_type": "code",
   "execution_count": 14,
   "id": "20fd900e",
   "metadata": {},
   "outputs": [
    {
     "name": "stdout",
     "output_type": "stream",
     "text": [
      "There are 13 patients of blood type 'AB'\n",
      "There are 15 patients of blood type 'A'\n",
      "There are 1 patients of blood type 'B'\n",
      "There are 15 patients of blood type 'O'\n",
      "There are 0 patients of blood type 'OO'\n"
     ]
    }
   ],
   "source": [
    "# Question 7 Python\n",
    "\n",
    "\n",
    "#ANSWER\n",
    "\n",
    "def bldcount(name):   # building a fuction \n",
    "    \n",
    "    BloodCounts = {\"AB\": 0, \"A\": 0, \"B\": 0, \"O\": 0, \"OO\": 0}      # Creating a Directory to store blood type count\n",
    "\n",
    "    try: \n",
    "        with open(name, \"r\") as file:          # \"Open\" is used to open file and \"r\" represents the read mode\n",
    "            \n",
    "            reader = file.read().split()       # reader is reading the file and spliting the data\n",
    "\n",
    "            \n",
    "            for BloodType in reader:            # for loop operates for the blood types in file\n",
    "                \n",
    "                if BloodType in BloodCounts:         #  if loop operates when blood type is present in file\n",
    "                    BloodCounts[BloodType] += 1      #ths step is to reach a specific blood type in directory and \"+=\" is used \n",
    "                                                     # to add right hand side value \"1\" to the left hand side\"blood_counts[blood_type]\" and store the value back on the left hand side \n",
    "       \n",
    "        for BloodType, count in BloodCounts.items(): \n",
    "            # Here, for each BloodType for loop uses \".items()\" to count Patients \n",
    "            print(f\"There are {count} patients of blood type '{BloodType}'\")\n",
    "            # Printing End Results( Note: 'f' is used so that 'count' and'BloodType' can be included.)\n",
    "            \n",
    "    except FileNotFoundError:  # print out the message if file not found\n",
    "        print(f\"File '{name}' not found.\")\n",
    "\n",
    "# Usage example:\n",
    "bldcount(\"/Users/navne/OneDrive/Desktop/bloodtype1.txt\") # Calling the def bldcount funtion"
   ]
  },
  {
   "cell_type": "code",
   "execution_count": 18,
   "id": "ee888bf6",
   "metadata": {},
   "outputs": [
    {
     "name": "stdout",
     "output_type": "stream",
     "text": [
      " The Amount is US Dollars is $122.96544\n",
      " The Amount is US Dollars is $1.241401\n"
     ]
    }
   ],
   "source": [
    "#Question 8\n",
    "\n",
    "\n",
    "# Answer:\n",
    "def curconv(Currency, Amount): # building a fuction \n",
    "    try:\n",
    "        with open(\"/Users/navne/OneDrive/Desktop/9576931.txt\", \"r\") as file:  # \"Open\" is used to open file and \"r\" represents the read mode\n",
    "            reader = file.readlines() # reader is reading the lines\n",
    "\n",
    "            for Line in reader: # for loop operates for each line of \"reader\"\n",
    "                LineParts = Line.split() # \".split()\" splits the data of line \n",
    "\n",
    "                if len(LineParts) >= 3 and LineParts[0] == Currency:  # len() is used here to calulate teh 'Lenght' \n",
    "                    #if loop is executed if \"length\" of line part is greater or equal to three and first part of the line is equal to currency.\n",
    "                    ConversionRate = float(LineParts[1])\n",
    "                    ConvertedAmount = Amount * ConversionRate\n",
    "                    return ConvertedAmount  # returning the calculations.\n",
    "\n",
    "        print(f\"Currency '{Currency}' not found in the file.\")\n",
    "\n",
    "    except FileNotFoundError:\n",
    "        print(\"Currency file not found.\")\n",
    "\n",
    "\n",
    "print(f\" The Amount is US Dollars is ${curconv('EUR', 100)}\")  # Calling 'curconv' fucntion for conversion\n",
    "print(f\" The Amount is US Dollars is ${curconv('JPY', 100)}\")  # Calling 'curconv' fucntion for conversion"
   ]
  },
  {
   "cell_type": "code",
   "execution_count": null,
   "id": "703e4f43",
   "metadata": {},
   "outputs": [],
   "source": [
    "\n",
    "# Question 9 Python\n",
    "\n",
    "# ANSWERS:\n",
    "\n",
    "# A. Trying to add incompatible variables, as in adding 6 + ‘a’\n",
    "\n",
    "6+'a' # ERORR CAUSED: TypeError: unsupported operand type(s) for +: 'int' and 'str'\n",
    "\n",
    "\n",
    "# B. Referring to the 12th item of a list that has only 10 items\n",
    "\n",
    "List =[\"car\",\"Bus\",\"bike\",\"truck\",\"tramp\",\"train\",\"Plane\",\"Bicycle\",\"cart\",\"horse\"]\n",
    "print(List[0])\n",
    "print(List[12]) # ERORR CAUSED: IndexError: list index out of range\n",
    "\n",
    "# C. sing a value that is out ofrange for a function’s input, such as calling math.sqrt(-1.0)\n",
    "\n",
    "print(math.sqrt(-1.0)) # ERORR CAUSED: ValueError: math domain error (import math is requried here)\n",
    "\n",
    "# D. sing an undeclared variable, such as print(x) when x has not been defined\n",
    "\n",
    "print(D) # ERORR CAUSED: \" NameError: name 'D' is not defined \"\n",
    "\n",
    "\n",
    "# E.Trying to open a file that does not exist, such as mistyping the file name or looking in the wrong directory\n",
    "\n",
    "file = open(\"Myfile.txt\") # ERORR CAUSED: FileNotFoundError: [Errno 2] No such file or directory: 'Myfile.txt\n",
    "reader =file.read()\n"
   ]
  },
  {
   "cell_type": "code",
   "execution_count": 19,
   "id": "7b87fef3",
   "metadata": {},
   "outputs": [
    {
     "name": "stdout",
     "output_type": "stream",
     "text": [
      "[1, 1, 1, 3, 5, 1, 1, 2, 1, 0, 1, 0, 1, 2, 4, 0, 1, 2, 0, 2, 1, 0, 1, 1, 0, 0]\n"
     ]
    }
   ],
   "source": [
    "# Question 10 Python\n",
    "\n",
    "\n",
    "# Answer\n",
    "\n",
    "def frequencies(text):               \n",
    "    # defining the frequencies funtion\n",
    "    \n",
    "    letters = 'abcdefghijklmnopqrstuvwxyz' # string letter is storing all the alphabets\n",
    "    frequencies_list = []    # frequencies_list in an empty array and it will save the results\n",
    "\n",
    "    for char in letters:                    #  For loop operates for each character in the letter string\n",
    "        \n",
    "        Character_count = Text.count(char)         # count() function is used to count the  frequecy of alphabets of 'letters'\n",
    "                                                   # string in 'Text' string\n",
    "                                                    # Character_count is storing the count.\n",
    "        \n",
    "      \n",
    "        frequencies_list.append(Character_count) # append() is used to add Character_count to the 'frequencies_list'\n",
    "\n",
    "    return frequencies_list   # returning the results.\n",
    "\n",
    "Text = 'The quick red fox got bored and went home.'  # the input string.\n",
    "Results = frequencies(Text)   # funtion calling and Results store the final outcome\n",
    "print(Results)                # printing out the results \n"
   ]
  }
 ],
 "metadata": {
  "kernelspec": {
   "display_name": "Python 3 (ipykernel)",
   "language": "python",
   "name": "python3"
  },
  "language_info": {
   "codemirror_mode": {
    "name": "ipython",
    "version": 3
   },
   "file_extension": ".py",
   "mimetype": "text/x-python",
   "name": "python",
   "nbconvert_exporter": "python",
   "pygments_lexer": "ipython3",
   "version": "3.10.9"
  }
 },
 "nbformat": 4,
 "nbformat_minor": 5
}
