{
 "cells": [
  {
   "cell_type": "code",
   "execution_count": 27,
   "id": "e1bf138a",
   "metadata": {},
   "outputs": [
    {
     "name": "stdout",
     "output_type": "stream",
     "text": [
      " Enter a word = water\n",
      "The result is ==> retawway\n"
     ]
    }
   ],
   "source": [
    "#   Question 6. You can turn a word into pig-Latin using the following two rules(simplified):\n",
    "# • If the word starts with a consonant, move that letter to the end and append \n",
    "# ' ay'. For example, 'happy' becomes 'appyhay' and 'pencil' becomes 'encilpay'.\n",
    "#  If the word starts with a vowel, simply append 'way' to the end of the word. \n",
    "#  For example, 'enter' becomes 'enterway' and 'other' becomes 'otherway' . For \n",
    "#  our purposes, there are 5 vowels: a, e, i, o, u (so we count y as a consonant).\n",
    "#  Write a function pig() that takes a word (i.e., a string) as input and returns its pig Latin form. \n",
    "#  Your function should still work if the input word contains upper case \n",
    "#  characters. Your output should always be lower case however.\n",
    "\n",
    "# ANSWER:\n",
    "\n",
    "word = input(\" Enter a word = \") # user is asked to enter an Input\n",
    "\n",
    "def pig(word):                         # fucntion defining\n",
    "    if(word[0] in \"aeiouAEIOU\"):       # if loop operates when the first letter of the user input is present in \"aeiouAEIOU\" means a Vowel\n",
    "        return word+\"way\"              # \"return\" returns the input;however, adds \"way\" in the end of the input \n",
    "    else:                              # else operates when condition for if is not true\n",
    "        return word[::-1]+word[0]+\"ay\" # \"return\" returns the input;however,it reverses the user input and add \"ay\" in the right hand side.\n",
    "\n",
    "result = pig(word) # fucntion \"pig\" to operate on user input \"word\" \n",
    "print(f\"The result is ==> {result}\") # print out results\n"
   ]
  },
  {
   "cell_type": "code",
   "execution_count": 26,
   "id": "20fd900e",
   "metadata": {},
   "outputs": [
    {
     "name": "stdout",
     "output_type": "stream",
     "text": [
      "There are 13 patients of blood type 'AB'\n",
      "There are 15 patients of blood type 'A'\n",
      "There is one patients of blood type 'B'\n",
      "There are 15 patients of blood type 'O'\n",
      "There is no patient of blood type 'OO'\n"
     ]
    }
   ],
   "source": [
    "# Question 7 Python\n",
    "# file bloodtype1.txt records blood-types of patients (A, B, AB, O or OO) at a clinic. \n",
    "# Write a function bldcount() that reads the file with name name and reports (i.e., prints)\n",
    "# how many patients there are in each bloodtype.\n",
    "\n",
    "#ANSWER\n",
    "\n",
    "def bldcount(name):   # building a fuction \n",
    "    \n",
    "    BloodCounts = {\"AB\": 0, \"A\": 0, \"B\": 0, \"O\": 0, \"OO\": 0}      # Creating a Directory to store blood type count\n",
    "\n",
    "    try: \n",
    "        with open(name, \"r\") as file:          # \"Open\" is used to open file and \"r\" represents the read mode\n",
    "            \n",
    "            reader = file.read().split()       # reader is reading the file and spliting the data\n",
    "\n",
    "            \n",
    "            for BloodType in reader:            # for loop operates for the blood types in file\n",
    "                \n",
    "                if BloodType in BloodCounts:         #  if loop operates when blood type is present in file\n",
    "                    BloodCounts[BloodType] += 1      #ths step is to reach a specific blood type in directory and \"+=\" is used \n",
    "                                                     # to add right hand side value \"1\" to the left hand side\"blood_counts[blood_type]\" and store the value back on the left hand side \n",
    "       \n",
    "        for BloodType, count in BloodCounts.items(): \n",
    "            # Here, for each BloodType for loop uses \".items()\" to count Patients \n",
    "            if count==0:\n",
    "                print(f\"There is no patient of blood type '{BloodType}'\")\n",
    "                \n",
    "            elif count==1:\n",
    "                print(f\"There is one patients of blood type '{BloodType}'\")\n",
    "                \n",
    "            else:\n",
    "                print(f\"There are {count} patients of blood type '{BloodType}'\")\n",
    "            # Printing End Results( Note: 'f' is used so that 'count' and'BloodType' can be included.)\n",
    "            \n",
    "    except NO_file_error:  # print out the message if file not found\n",
    "        print(f\"Sorry! could not find  '{name}' \")\n",
    "\n",
    "# Usage example:\n",
    "bldcount(\"/Users/navne/OneDrive/Desktop/bloodtype1.txt\") # Calling the def bldcount funtion"
   ]
  },
  {
   "cell_type": "code",
   "execution_count": 1,
   "id": "ee888bf6",
   "metadata": {},
   "outputs": [
    {
     "name": "stdout",
     "output_type": "stream",
     "text": [
      " The Amount in US Dollars is $122.96544\n",
      " The Amount in US Dollars is $1.241401\n"
     ]
    }
   ],
   "source": [
    "#Question 8\n",
    "# Write a function curconv() that takes as input:\n",
    "# 1. a currency represented using a string (e.g., 'JPY' for the Japanese Yen or \n",
    "# 'EUR' for the Euro)\n",
    "# 2. an amount\n",
    "# and then converts and returns the amount in US dollars.\n",
    "\n",
    "# Answer:\n",
    "def curconv(Currency, Amount): # building a fuction \n",
    "    try:\n",
    "        with open(\"/Users/navne/OneDrive/Desktop/9576931.txt\", \"r\") as file:  # \"Open\" is used to open file and \"r\" represents the read mode\n",
    "            reader = file.readlines() # reader is reading the lines\n",
    "\n",
    "            for Line in reader: # for loop operates for each line of \"reader\"\n",
    "                LineParts = Line.split() # \".split()\" splits the data of line \n",
    "\n",
    "                if LineParts[0] == Currency:  # len() is used here to calulate teh 'Length' \n",
    "                    #if loop is executed if \"length\" of line part is greater or equal to three and first part of the line is equal to currency.\n",
    "                    Conversion_Rate = float(LineParts[1])\n",
    "                    Converted_Amount = Amount * Conversion_Rate\n",
    "                    return Converted_Amount  # returning the calculations.\n",
    "                \n",
    "\n",
    "        print(f\" Sorry! Could not find '{Currency}' \")\n",
    "\n",
    "    except No_file_error:\n",
    "        print(\"NO File Found!!.\")\n",
    "\n",
    "\n",
    "print(f\" The Amount in US Dollars is ${curconv('EUR', 100)}\")  # Calling 'curconv' fucntion for conversion\n",
    "print(f\" The Amount in US Dollars is ${curconv('JPY', 100)}\")  # Calling 'curconv' fucntion for conversion"
   ]
  },
  {
   "cell_type": "code",
   "execution_count": 1,
   "id": "703e4f43",
   "metadata": {},
   "outputs": [
    {
     "ename": "TypeError",
     "evalue": "unsupported operand type(s) for +: 'int' and 'str'",
     "output_type": "error",
     "traceback": [
      "\u001b[1;31m---------------------------------------------------------------------------\u001b[0m",
      "\u001b[1;31mTypeError\u001b[0m                                 Traceback (most recent call last)",
      "Cell \u001b[1;32mIn[1], line 7\u001b[0m\n\u001b[0;32m      1\u001b[0m \u001b[38;5;66;03m# Question 9 Python\u001b[39;00m\n\u001b[0;32m      2\u001b[0m \n\u001b[0;32m      3\u001b[0m \u001b[38;5;66;03m# ANSWERS:\u001b[39;00m\n\u001b[0;32m      4\u001b[0m \n\u001b[0;32m      5\u001b[0m \u001b[38;5;66;03m# A. Trying to add incompatible variables, as in adding 6 + ‘a’\u001b[39;00m\n\u001b[1;32m----> 7\u001b[0m \u001b[38;5;241;43m6\u001b[39;49m\u001b[38;5;241;43m+\u001b[39;49m\u001b[38;5;124;43m'\u001b[39;49m\u001b[38;5;124;43ma\u001b[39;49m\u001b[38;5;124;43m'\u001b[39;49m \u001b[38;5;66;03m# ERORR CAUSED: TypeError: unsupported operand type(s) for +: 'int' and 'str'\u001b[39;00m\n\u001b[0;32m     10\u001b[0m \u001b[38;5;66;03m# B. Referring to the 12th item of a list that has only 10 items\u001b[39;00m\n\u001b[0;32m     12\u001b[0m List \u001b[38;5;241m=\u001b[39m[\u001b[38;5;124m\"\u001b[39m\u001b[38;5;124mcar\u001b[39m\u001b[38;5;124m\"\u001b[39m,\u001b[38;5;124m\"\u001b[39m\u001b[38;5;124mBus\u001b[39m\u001b[38;5;124m\"\u001b[39m,\u001b[38;5;124m\"\u001b[39m\u001b[38;5;124mbike\u001b[39m\u001b[38;5;124m\"\u001b[39m,\u001b[38;5;124m\"\u001b[39m\u001b[38;5;124mtruck\u001b[39m\u001b[38;5;124m\"\u001b[39m,\u001b[38;5;124m\"\u001b[39m\u001b[38;5;124mtramp\u001b[39m\u001b[38;5;124m\"\u001b[39m,\u001b[38;5;124m\"\u001b[39m\u001b[38;5;124mtrain\u001b[39m\u001b[38;5;124m\"\u001b[39m,\u001b[38;5;124m\"\u001b[39m\u001b[38;5;124mPlane\u001b[39m\u001b[38;5;124m\"\u001b[39m,\u001b[38;5;124m\"\u001b[39m\u001b[38;5;124mBicycle\u001b[39m\u001b[38;5;124m\"\u001b[39m,\u001b[38;5;124m\"\u001b[39m\u001b[38;5;124mcart\u001b[39m\u001b[38;5;124m\"\u001b[39m,\u001b[38;5;124m\"\u001b[39m\u001b[38;5;124mhorse\u001b[39m\u001b[38;5;124m\"\u001b[39m]\n",
      "\u001b[1;31mTypeError\u001b[0m: unsupported operand type(s) for +: 'int' and 'str'"
     ]
    }
   ],
   "source": [
    "\n",
    "# Question 9 Python\n",
    "# Each of the following will cause an exception (an error). Identify what type of \n",
    "# exception each will cause.\n",
    "\n",
    "# ANSWERS:\n",
    "\n",
    "# A. Trying to add incompatible variables, as in adding 6 + ‘a’\n",
    "\n",
    "6+'a' # ERORR CAUSED: TypeError: unsupported operand type(s) for +: 'int' and 'str'\n",
    "\n",
    "\n"
   ]
  },
  {
   "cell_type": "code",
   "execution_count": 2,
   "id": "6049f628",
   "metadata": {},
   "outputs": [
    {
     "name": "stdout",
     "output_type": "stream",
     "text": [
      "car\n"
     ]
    },
    {
     "ename": "IndexError",
     "evalue": "list index out of range",
     "output_type": "error",
     "traceback": [
      "\u001b[1;31m---------------------------------------------------------------------------\u001b[0m",
      "\u001b[1;31mIndexError\u001b[0m                                Traceback (most recent call last)",
      "Cell \u001b[1;32mIn[2], line 5\u001b[0m\n\u001b[0;32m      3\u001b[0m List \u001b[38;5;241m=\u001b[39m[\u001b[38;5;124m\"\u001b[39m\u001b[38;5;124mcar\u001b[39m\u001b[38;5;124m\"\u001b[39m,\u001b[38;5;124m\"\u001b[39m\u001b[38;5;124mBus\u001b[39m\u001b[38;5;124m\"\u001b[39m,\u001b[38;5;124m\"\u001b[39m\u001b[38;5;124mbike\u001b[39m\u001b[38;5;124m\"\u001b[39m,\u001b[38;5;124m\"\u001b[39m\u001b[38;5;124mtruck\u001b[39m\u001b[38;5;124m\"\u001b[39m,\u001b[38;5;124m\"\u001b[39m\u001b[38;5;124mtramp\u001b[39m\u001b[38;5;124m\"\u001b[39m,\u001b[38;5;124m\"\u001b[39m\u001b[38;5;124mtrain\u001b[39m\u001b[38;5;124m\"\u001b[39m,\u001b[38;5;124m\"\u001b[39m\u001b[38;5;124mPlane\u001b[39m\u001b[38;5;124m\"\u001b[39m,\u001b[38;5;124m\"\u001b[39m\u001b[38;5;124mBicycle\u001b[39m\u001b[38;5;124m\"\u001b[39m,\u001b[38;5;124m\"\u001b[39m\u001b[38;5;124mcart\u001b[39m\u001b[38;5;124m\"\u001b[39m,\u001b[38;5;124m\"\u001b[39m\u001b[38;5;124mhorse\u001b[39m\u001b[38;5;124m\"\u001b[39m]\n\u001b[0;32m      4\u001b[0m \u001b[38;5;28mprint\u001b[39m(List[\u001b[38;5;241m0\u001b[39m])\n\u001b[1;32m----> 5\u001b[0m \u001b[38;5;28mprint\u001b[39m(\u001b[43mList\u001b[49m\u001b[43m[\u001b[49m\u001b[38;5;241;43m12\u001b[39;49m\u001b[43m]\u001b[49m)\n",
      "\u001b[1;31mIndexError\u001b[0m: list index out of range"
     ]
    }
   ],
   "source": [
    "# 9B. Referring to the 12th item of a list that has only 10 items\n",
    "\n",
    "List =[\"car\",\"Bus\",\"bike\",\"truck\",\"tramp\",\"train\",\"Plane\",\"Bicycle\",\"cart\",\"horse\"]\n",
    "print(List[0])\n",
    "print(List[12]) # ERORR CAUSED: IndexError: list index out of range"
   ]
  },
  {
   "cell_type": "code",
   "execution_count": 3,
   "id": "fe4aa501",
   "metadata": {},
   "outputs": [
    {
     "ename": "NameError",
     "evalue": "name 'math' is not defined",
     "output_type": "error",
     "traceback": [
      "\u001b[1;31m---------------------------------------------------------------------------\u001b[0m",
      "\u001b[1;31mNameError\u001b[0m                                 Traceback (most recent call last)",
      "Cell \u001b[1;32mIn[3], line 3\u001b[0m\n\u001b[0;32m      1\u001b[0m \u001b[38;5;66;03m# C. sing a value that is out ofrange for a function’s input, such as calling math.sqrt(-1.0)\u001b[39;00m\n\u001b[1;32m----> 3\u001b[0m \u001b[38;5;28mprint\u001b[39m(\u001b[43mmath\u001b[49m\u001b[38;5;241m.\u001b[39msqrt(\u001b[38;5;241m-\u001b[39m\u001b[38;5;241m1.0\u001b[39m))\n",
      "\u001b[1;31mNameError\u001b[0m: name 'math' is not defined"
     ]
    }
   ],
   "source": [
    "# 9C. sing a value that is out ofrange for a function’s input, such as calling math.sqrt(-1.0)\n",
    "\n",
    "print(math.sqrt(-1.0)) # ERORR CAUSED: ValueError: math domain error (import math is requried here)\n"
   ]
  },
  {
   "cell_type": "code",
   "execution_count": 4,
   "id": "f2e309b2",
   "metadata": {},
   "outputs": [
    {
     "ename": "NameError",
     "evalue": "name 'D' is not defined",
     "output_type": "error",
     "traceback": [
      "\u001b[1;31m---------------------------------------------------------------------------\u001b[0m",
      "\u001b[1;31mNameError\u001b[0m                                 Traceback (most recent call last)",
      "Cell \u001b[1;32mIn[4], line 3\u001b[0m\n\u001b[0;32m      1\u001b[0m \u001b[38;5;66;03m# D. sing an undeclared variable, such as print(x) when x has not been defined\u001b[39;00m\n\u001b[1;32m----> 3\u001b[0m \u001b[38;5;28mprint\u001b[39m(\u001b[43mD\u001b[49m)\n",
      "\u001b[1;31mNameError\u001b[0m: name 'D' is not defined"
     ]
    }
   ],
   "source": [
    "\n",
    "# 9D. sing an undeclared variable, such as print(x) when x has not been defined\n",
    "\n",
    "print(D) # ERORR CAUSED: \" NameError: name 'D' is not defined \""
   ]
  },
  {
   "cell_type": "code",
   "execution_count": 5,
   "id": "a215d00d",
   "metadata": {},
   "outputs": [
    {
     "ename": "FileNotFoundError",
     "evalue": "[Errno 2] No such file or directory: 'Myfile.txt'",
     "output_type": "error",
     "traceback": [
      "\u001b[1;31m---------------------------------------------------------------------------\u001b[0m",
      "\u001b[1;31mFileNotFoundError\u001b[0m                         Traceback (most recent call last)",
      "Cell \u001b[1;32mIn[5], line 3\u001b[0m\n\u001b[0;32m      1\u001b[0m \u001b[38;5;66;03m# E.Trying to open a file that does not exist, such as mistyping the file name or looking in the wrong directory\u001b[39;00m\n\u001b[1;32m----> 3\u001b[0m file \u001b[38;5;241m=\u001b[39m \u001b[38;5;28;43mopen\u001b[39;49m\u001b[43m(\u001b[49m\u001b[38;5;124;43m\"\u001b[39;49m\u001b[38;5;124;43mMyfile.txt\u001b[39;49m\u001b[38;5;124;43m\"\u001b[39;49m\u001b[43m)\u001b[49m \u001b[38;5;66;03m# ERORR CAUSED: FileNotFoundError: [Errno 2] No such file or directory: 'Myfile.txt\u001b[39;00m\n\u001b[0;32m      4\u001b[0m reader \u001b[38;5;241m=\u001b[39mfile\u001b[38;5;241m.\u001b[39mread()\n",
      "File \u001b[1;32m~\\anaconda3\\lib\\site-packages\\IPython\\core\\interactiveshell.py:282\u001b[0m, in \u001b[0;36m_modified_open\u001b[1;34m(file, *args, **kwargs)\u001b[0m\n\u001b[0;32m    275\u001b[0m \u001b[38;5;28;01mif\u001b[39;00m file \u001b[38;5;129;01min\u001b[39;00m {\u001b[38;5;241m0\u001b[39m, \u001b[38;5;241m1\u001b[39m, \u001b[38;5;241m2\u001b[39m}:\n\u001b[0;32m    276\u001b[0m     \u001b[38;5;28;01mraise\u001b[39;00m \u001b[38;5;167;01mValueError\u001b[39;00m(\n\u001b[0;32m    277\u001b[0m         \u001b[38;5;124mf\u001b[39m\u001b[38;5;124m\"\u001b[39m\u001b[38;5;124mIPython won\u001b[39m\u001b[38;5;124m'\u001b[39m\u001b[38;5;124mt let you open fd=\u001b[39m\u001b[38;5;132;01m{\u001b[39;00mfile\u001b[38;5;132;01m}\u001b[39;00m\u001b[38;5;124m by default \u001b[39m\u001b[38;5;124m\"\u001b[39m\n\u001b[0;32m    278\u001b[0m         \u001b[38;5;124m\"\u001b[39m\u001b[38;5;124mas it is likely to crash IPython. If you know what you are doing, \u001b[39m\u001b[38;5;124m\"\u001b[39m\n\u001b[0;32m    279\u001b[0m         \u001b[38;5;124m\"\u001b[39m\u001b[38;5;124myou can use builtins\u001b[39m\u001b[38;5;124m'\u001b[39m\u001b[38;5;124m open.\u001b[39m\u001b[38;5;124m\"\u001b[39m\n\u001b[0;32m    280\u001b[0m     )\n\u001b[1;32m--> 282\u001b[0m \u001b[38;5;28;01mreturn\u001b[39;00m io_open(file, \u001b[38;5;241m*\u001b[39margs, \u001b[38;5;241m*\u001b[39m\u001b[38;5;241m*\u001b[39mkwargs)\n",
      "\u001b[1;31mFileNotFoundError\u001b[0m: [Errno 2] No such file or directory: 'Myfile.txt'"
     ]
    }
   ],
   "source": [
    "# 9E.Trying to open a file that does not exist, such as mistyping the file name or looking in the wrong directory\n",
    "\n",
    "file = open(\"Myfile.txt\") # ERORR CAUSED: FileNotFoundError: [Errno 2] No such file or directory: 'Myfile.txt\n",
    "reader =file.read()\n"
   ]
  },
  {
   "cell_type": "code",
   "execution_count": 12,
   "id": "7b87fef3",
   "metadata": {},
   "outputs": [
    {
     "name": "stdout",
     "output_type": "stream",
     "text": [
      "[1, 1, 1, 3, 5, 1, 1, 2, 1, 0, 1, 0, 1, 2, 4, 0, 1, 2, 0, 2, 1, 0, 1, 1, 0, 0]\n"
     ]
    }
   ],
   "source": [
    "# Question 10 Python\n",
    "# Encryption is the process of hiding the meaning of a text by substituting letters in the \n",
    "# message with other letters, according to some system. If the process is successful, no \n",
    "# one but the intended recipient can understand the encrypted message. Cryptanalysis \n",
    "# refers to attempts to undo the encryption, even if some details of the encryption are \n",
    "# unknown (for example, if an encrypted message has been intercepted). The first step \n",
    "# of cryptanalysis is often to build up a table of letter frequencies in the encrypted text. \n",
    "# Assume that the string letters is already defined as \n",
    "# 'abcdefghijklmnopqrstuvwxyz'. Write a function called frequencies() \n",
    "# that takes a string as its only parameter, and returns a list of integers, showing the \n",
    "# number of times each character appears in the text. Your function may ignore any \n",
    "#characters that are not in letters.\n",
    "\n",
    "\n",
    "\n",
    "# Answer\n",
    "\n",
    "def frequencies(text):               \n",
    "    # defining the frequencies funtion\n",
    "    \n",
    "    letters = 'abcdefghijklmnopqrstuvwxyz' # string letter is storing all the alphabets\n",
    "    FrequenciesArray = []    # frequencies_list in an empty array and it will save the results\n",
    "\n",
    "    for char in letters:                    #  For loop operates for each character in the letter string\n",
    "        \n",
    "        Character_count = Text.count(char)         # count() function is used to count the  frequecy of alphabets of 'letters'\n",
    "                                                   # string in 'Text' string\n",
    "                                                    # Character_count is storing the count.\n",
    "        \n",
    "      \n",
    "        FrequenciesArray.append(Character_count) # append() is used to add Character_count to the 'frequencies_list'\n",
    "\n",
    "    return FrequenciesArray   # returning the results.\n",
    "\n",
    "Text = 'The quick red fox got bored and went home.'  # the input string.\n",
    "Results = frequencies(Text)   # funtion calling and Results store the final outcome\n",
    "print(Results)                # printing out the results \n"
   ]
  },
  {
   "cell_type": "code",
   "execution_count": null,
   "id": "249c51f9",
   "metadata": {},
   "outputs": [],
   "source": []
  }
 ],
 "metadata": {
  "kernelspec": {
   "display_name": "Python 3 (ipykernel)",
   "language": "python",
   "name": "python3"
  },
  "language_info": {
   "codemirror_mode": {
    "name": "ipython",
    "version": 3
   },
   "file_extension": ".py",
   "mimetype": "text/x-python",
   "name": "python",
   "nbconvert_exporter": "python",
   "pygments_lexer": "ipython3",
   "version": "3.10.9"
  }
 },
 "nbformat": 4,
 "nbformat_minor": 5
}
